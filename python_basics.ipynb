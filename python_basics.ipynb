{
  "nbformat": 4,
  "nbformat_minor": 0,
  "metadata": {
    "colab": {
      "provenance": []
    },
    "kernelspec": {
      "name": "python3",
      "display_name": "Python 3"
    },
    "language_info": {
      "name": "python"
    }
  },
  "cells": [
    {
      "cell_type": "markdown",
      "source": [
        "#python basics\n"
      ],
      "metadata": {
        "id": "HbUf6ipS-iZ9"
      }
    },
    {
      "cell_type": "markdown",
      "source": [
        "1.  What is Python, and why is it popular?\n",
        "    - Python is a versatile, easy-to-learn programming language known for its wide range of applications, from web development to data science. It has a large number of libraries that make development faster and more efficient, which is why it is very popular globally.\n",
        "\n",
        "2.  What is an interpreter in Python?\n",
        "    - In Python, an interpreter is a program that executes Python code directly, line by line, without requiring it to be compiled into machine code first. It reads the source code, parses it, and immediately runs the instructions, translating them into actions.\n",
        "\n",
        "3.  What are pre-defined keywords in Python?\n",
        "    - Pre-defines keywords in python are reserved words that have specific meaning or function and cannot be used as variable or function names . They are case-senstitive and avialable to use anytime. for example : def, if , elif etc.\n",
        "\n",
        "4.  Can keywords be used as variable names?\n",
        "    - NO\n",
        "\n",
        "5.  What is mutability in Python?\n",
        "    - In Python, mutability is the ability to change an object's content after it has been created. Lists and dictionaries are examples of mutable objects that let you add, edit, or remove elements without altering the object's identity. On the other hand, once formed, immutable objects like strings, tuples, and integers cannot be changed; if you want a different value, you have to construct a new object.\n",
        "\n",
        "6.  Why are lists mutable, but tuples are immutable?\n",
        "    - Lists can be changed in Python because it is intended for groups of things that you may change by adding, eliminating, or modifying them. On the contrary, tuples are not changeable since they are devised to maintain their content unaltered when you create them and so are most often used to represent constant data.\n",
        "\n",
        "7.  What is the difference between “==” and “is” operators in Python?\n",
        "    - \"==\" is used to confirm whether two objects share a common value, but the operator \"is\" is used to determine if they are the same object present in the computer memory.\n",
        "    - Use \"==\" to see if two values are the same, and use the keyword `is` to check if two object point to the same object.\n",
        "\n",
        "8.  What are logical operators in Python?\n",
        "    - Python logical operators help to combine two conditional statements or modify the results of two conditional statements. Logical operators evaluate expressions and return a Boolean value.\n",
        "\n",
        "9.  What is type casting in Python?\n",
        "    - Changing the data type of a value in Python is called typecasting. It is used when you want to perform operations that require a specific data type or when you want to ensure that a value is of the required data type. Built-in functions in Python are provided to perform typecasting, or in some cases, typecasting occurs automatically.\n",
        "\n",
        "10.  What is the difference between implicit and explicit type casting?\n",
        "     - Implicit type conversions that occur in Python are those that take place automatically when the interpreter converts one datatype to another. This is usually to prevent data loss and simplify code, for instance, changing an integer to a float when they are added together. Explicit typecasting, on the other hand, involves the programmer manually indicating the conversion to be done using functions like int(), float(), or str(). In a nutshell, while implicit casting is automatic and more convenient, explicit casting is manual and more precise.\n",
        "\n",
        "11.  What is the purpose of conditional statements in Python?\n",
        "     - Python includes conditional constructions that control program execution flow by checking if the expression is True or False. Such structures assist in automatic execution of commands based on user-defined options, with each option linked to a specific block of code that will run under various conditions\n",
        "\n",
        "12.  How does the elif statement work?\n",
        "     - The elif statement, which stands for “else if,” lets you check multiple conditions sequentially after an initial if. It is beneficial when there are more than two possible outcomes.\n",
        "\n",
        "13.  What is the difference between for and while loops?\n",
        "     - Use a for loop when you want to iterate through a sequence, or when you know there is a set number of iterations required. Use a while loop when you want to repeat a block of code based on a condition that may change throughout the execution of the code and when you do not know exactly how many repetitions will occur beforehand.\n",
        "     \n",
        "14.  Describe a scenario where a while loop is more suitable than a for loop.\n",
        "     - A while loop works better than a for loop in situations where the number of iterations is either unknown or depends on an undetermined dynamic condition that does not allow you to predict more precisely whether you should iterate over a sequence or not. The most common scenario here is when you want to keep asking a user for input until the user has entered either a valid response or explicitly asked to end the request."
      ],
      "metadata": {
        "id": "1w7ejzYj-uMH"
      }
    },
    {
      "cell_type": "code",
      "execution_count": 5,
      "metadata": {
        "colab": {
          "base_uri": "https://localhost:8080/"
        },
        "id": "dE27P7xZ9OnR",
        "outputId": "a72faeec-b579-45b1-8b92-d98fe69ca028"
      },
      "outputs": [
        {
          "output_type": "stream",
          "name": "stdout",
          "text": [
            "Hello, World!\n"
          ]
        }
      ],
      "source": [
        "#1 Write a Python program to print \"Hello, World!\"\n",
        "print('Hello, World!')\n"
      ]
    },
    {
      "cell_type": "code",
      "source": [
        "#2 Write a Python program that displays your name and age\n",
        "name = input(\"enter your name = \")\n",
        "age = input(\"enter your age = \")\n",
        "print(f\"your name is {name} and your age is {age}\")"
      ],
      "metadata": {
        "colab": {
          "base_uri": "https://localhost:8080/"
        },
        "id": "FHjS_bjbNc6z",
        "outputId": "4c63d4a6-d96d-4490-ed29-7863020d5d8a"
      },
      "execution_count": 1,
      "outputs": [
        {
          "output_type": "stream",
          "name": "stdout",
          "text": [
            "enter your name = Khitij garg\n",
            "enter your age = 21\n",
            "your name is Khitij garg and your age is 21\n"
          ]
        }
      ]
    },
    {
      "cell_type": "code",
      "source": [
        "#3 Write code to print all the pre-defined keywords in Python using the keyword library\n",
        "import keyword\n",
        "\n",
        "for kw in keyword.kwlist:\n",
        "    print(kw)"
      ],
      "metadata": {
        "colab": {
          "base_uri": "https://localhost:8080/"
        },
        "id": "b3tg_3UzOAGe",
        "outputId": "20c17c6e-d23e-4cb2-affe-bf469f02651a"
      },
      "execution_count": 2,
      "outputs": [
        {
          "output_type": "stream",
          "name": "stdout",
          "text": [
            "False\n",
            "None\n",
            "True\n",
            "and\n",
            "as\n",
            "assert\n",
            "async\n",
            "await\n",
            "break\n",
            "class\n",
            "continue\n",
            "def\n",
            "del\n",
            "elif\n",
            "else\n",
            "except\n",
            "finally\n",
            "for\n",
            "from\n",
            "global\n",
            "if\n",
            "import\n",
            "in\n",
            "is\n",
            "lambda\n",
            "nonlocal\n",
            "not\n",
            "or\n",
            "pass\n",
            "raise\n",
            "return\n",
            "try\n",
            "while\n",
            "with\n",
            "yield\n"
          ]
        }
      ]
    },
    {
      "cell_type": "code",
      "source": [
        "#4 Write a program that checks if a given word is a Python keyword\n",
        "import keyword\n",
        "word= input(\"enter word you ant to check = \")\n",
        "\n",
        "if keyword.iskeyword(word):\n",
        "    print(f\"{word} is a python keyword\")\n",
        "else:\n",
        "    print(f\"{word} is not a python keyword\")"
      ],
      "metadata": {
        "colab": {
          "base_uri": "https://localhost:8080/"
        },
        "id": "sTTOeQ4wOomy",
        "outputId": "0bad1b9f-670b-4606-8bde-0588e94b9b84"
      },
      "execution_count": 4,
      "outputs": [
        {
          "output_type": "stream",
          "name": "stdout",
          "text": [
            "enter word you ant to check = if\n",
            "if is a python keyword\n"
          ]
        }
      ]
    },
    {
      "cell_type": "code",
      "source": [
        " #5 create a list and tuple in Python, and demonstrate how attempting to change an element works differently for each.\n",
        "my_list= [1,2,3,4]\n",
        "my_tuple=(1,2,3,4)\n",
        "\n",
        "print(f\"my_list={my_list} and my_tuple={my_tuple}\")\n",
        "\n",
        "print(\"attempt to modify list\")\n",
        "my_list[0]=10\n",
        "print(f\"modified my_list={my_list}\")\n",
        "\n",
        "print(\"attempt to modify tuple\")\n",
        "try:\n",
        "    my_tuple[0]=10\n",
        "    print(f\"modified my_tuple={my_tuple}\")\n",
        "except TypeError as e:\n",
        "    print(f\"Error: {e}\")\n",
        "\n"
      ],
      "metadata": {
        "colab": {
          "base_uri": "https://localhost:8080/"
        },
        "id": "qA_z1PHpPsxy",
        "outputId": "3d1c02f5-b399-4bdf-9ea8-e0ef0843dbc3"
      },
      "execution_count": 6,
      "outputs": [
        {
          "output_type": "stream",
          "name": "stdout",
          "text": [
            "my_list=[1, 2, 3, 4] and my_tuple=(1, 2, 3, 4)\n",
            "attempt to modify list\n",
            "modified my_list=[10, 2, 3, 4]\n",
            "attempt to modify tuple\n",
            "Error: 'tuple' object does not support item assignment\n"
          ]
        }
      ]
    },
    {
      "cell_type": "code",
      "source": [
        "#6  Write a function to demonstrate the behavior of mutable and immutable arguments.\n",
        "def modify_args(my_list, my_tuple):\n",
        "    print(\"\\ninside function\")\n",
        "\n",
        "    my_list.append(4)\n",
        "    print(\"modified_list:\",my_list)\n",
        "    try:\n",
        "        my_tuple.append(4)\n",
        "        print(\"modified_tuple:\",my_tuple)\n",
        "    except AttributeError as e:\n",
        "        print(f\"Error: {e}\")\n",
        "\n",
        "\n",
        "\n",
        "my_list = [1, 2, 3]\n",
        "my_tuple = (1, 2, 3)\n",
        "print(\"before function\")\n",
        "print(\"original_list:\",my_list)\n",
        "print(\"original_tuple:\",my_tuple)\n",
        "\n",
        "\n",
        "modify_args(my_list, my_tuple)\n",
        "\n",
        "print(\"\\nafter function\")\n",
        "print(\"modified_list:\",my_list)\n",
        "print(\"modified_tuple:\",my_tuple)\n",
        "\n"
      ],
      "metadata": {
        "colab": {
          "base_uri": "https://localhost:8080/"
        },
        "id": "YGsgIJKmR5R9",
        "outputId": "7b6113ec-700c-4ecf-ccb3-e290e0c5af7e"
      },
      "execution_count": 25,
      "outputs": [
        {
          "output_type": "stream",
          "name": "stdout",
          "text": [
            "before function\n",
            "original_list: [1, 2, 3]\n",
            "original_tuple: (1, 2, 3)\n",
            "\n",
            "inside function\n",
            "modified_list: [1, 2, 3, 4]\n",
            "Error: 'tuple' object has no attribute 'append'\n",
            "\n",
            "after function\n",
            "modified_list: [1, 2, 3, 4]\n",
            "modified_tuple: (1, 2, 3)\n"
          ]
        }
      ]
    },
    {
      "cell_type": "code",
      "source": [
        "#7 Write a program that performs basic arithmetic operations on two user-input numbers.\n",
        "num1=float(input(\"first number\"))\n",
        "num2=float(input(\"second number\"))\n",
        "\n",
        "def arithmetic_operations():\n",
        "  add=num1+num2\n",
        "  sub=num1-num2\n",
        "  multi=num1*num2\n",
        "\n",
        "  if num2 !=0:\n",
        "    division = num1/num2\n",
        "    modulus = num1%num2\n",
        "  else:\n",
        "    division = \"undefined\"\n",
        "\n",
        "  print(f\"Addition={add} \\nSubtraction={sub}  \\nMultiplication={multi} \\nDivision={division} \\nmodulus={modulus}\")\n",
        "\n",
        "arithmetic_operations()\n",
        ""
      ],
      "metadata": {
        "colab": {
          "base_uri": "https://localhost:8080/"
        },
        "id": "0JoGKhtQXj-N",
        "outputId": "4ce277c6-9363-4e90-8801-27f19325e46e"
      },
      "execution_count": 29,
      "outputs": [
        {
          "output_type": "stream",
          "name": "stdout",
          "text": [
            "first number586\n",
            "second number586\n",
            "Addition=1172.0 \n",
            "Subtraction=0.0  \n",
            "Multiplication=343396.0 \n",
            "Division=1.0 \n",
            "modulus=0.0\n"
          ]
        }
      ]
    },
    {
      "cell_type": "code",
      "source": [
        "#8 Write a program to demonstrate the use of logical operators.\n",
        "\n",
        "age = int(input(\"enter your age:\"))\n",
        "has_licence = input(\"do you have licence (yes or no):\").lower()\n",
        "\n",
        "\n",
        "if age>=18 and has_licence==\"yes\":\n",
        "  print(\"you are eligible for driving\")\n",
        "elif age>=18 and not has_licence==\"yes\":\n",
        "  print(\"you are not eligible for driving\")\n",
        "elif age<18 and has_licence==\"yes\":\n",
        "  print(\"you are not eligible for driving\")\n",
        "else:\n",
        "  print(\"you are not eligible for driving\")"
      ],
      "metadata": {
        "colab": {
          "base_uri": "https://localhost:8080/"
        },
        "id": "5VOd7o25bpHE",
        "outputId": "0962a836-a583-4b0a-bbde-0689949d5e91"
      },
      "execution_count": 32,
      "outputs": [
        {
          "output_type": "stream",
          "name": "stdout",
          "text": [
            "enter your age:555\n",
            "do you have licence (yes or no):Yes\n",
            "you are eligible for driving\n"
          ]
        }
      ]
    },
    {
      "cell_type": "code",
      "source": [
        "#9  Write a Python program to convert user input from string to integer, float, and boolean types.\n",
        "user_input= str(input(\"enter anything :\"))\n",
        "\n",
        "try:\n",
        "  int_value=int(user_input)\n",
        "  print(\"interger conversion=\",int_value)\n",
        "except ValueError:\n",
        "  print(\"cannot to converted\")\n",
        "try:\n",
        "  float_value=float(user_input)\n",
        "  print(\"float conversion=\",float_value)\n",
        "except ValueError:\n",
        "  print(\"cannot to converted\")\n",
        "\n",
        "bool_value=bool(user_input)\n",
        "print(\"boolean conversion=\",bool_value)\n",
        "\n",
        ""
      ],
      "metadata": {
        "colab": {
          "base_uri": "https://localhost:8080/"
        },
        "id": "4xnUoj2Xg6zm",
        "outputId": "4ca24e03-37a2-4ccf-d954-583ae2f0155e"
      },
      "execution_count": 39,
      "outputs": [
        {
          "output_type": "stream",
          "name": "stdout",
          "text": [
            "enter anything :hello\n",
            "cannot to converted\n",
            "cannot to converted\n",
            "boolean conversion= True\n"
          ]
        }
      ]
    },
    {
      "cell_type": "code",
      "source": [
        "#10  Write code to demonstrate type casting with list elements.\n",
        "str_numbers = ['10', '20', '30', '40']\n",
        "\n",
        "int_numbers = [int(num) for num in str_numbers]\n",
        "\n",
        "print(\"original list (strings)=\", str_numbers)\n",
        "print(\"converted list (integers)=\", int_numbers)\n",
        "\n",
        "str_numbers_again = [str(num) for num in int_numbers]\n",
        "print(\"converted back to strings=\", str_numbers_again)\n",
        "\n",
        "mixed_list = [1, '2', 3.5, '4.2']\n",
        "\n",
        "float_list = [float(num) for num in mixed_list]\n",
        "print(\"mixed list=\", mixed_list)\n",
        "print(\"converted to floats=\", float_list)\n"
      ],
      "metadata": {
        "colab": {
          "base_uri": "https://localhost:8080/"
        },
        "id": "z7-byIJ3vsGS",
        "outputId": "9e886da0-e683-443c-81ba-00b42187b603"
      },
      "execution_count": 45,
      "outputs": [
        {
          "output_type": "stream",
          "name": "stdout",
          "text": [
            "original list (strings)= ['10', '20', '30', '40']\n",
            "converted list (integers)= [10, 20, 30, 40]\n",
            "converted back to strings= ['10', '20', '30', '40']\n",
            "mixed list= [1, '2', 3.5, '4.2']\n",
            "converted to floats= [1.0, 2.0, 3.5, 4.2]\n"
          ]
        }
      ]
    },
    {
      "cell_type": "code",
      "source": [
        "#11  Write a program that checks if a number is positive, negative, or zero.\n",
        "num= int(input(\"number to be checked=\"))\n",
        "\n",
        "if num>0:\n",
        "  print(\"number is positive\")\n",
        "elif num<0:\n",
        "  print(\"number is negative\")\n",
        "else:\n",
        "  print(\"number is zero\")\n"
      ],
      "metadata": {
        "colab": {
          "base_uri": "https://localhost:8080/"
        },
        "id": "ltzRHRvJxNXF",
        "outputId": "c64c9a90-e78d-4278-8702-e7712191152b"
      },
      "execution_count": 52,
      "outputs": [
        {
          "output_type": "stream",
          "name": "stdout",
          "text": [
            "number to be checked=858\n",
            "number is positive\n"
          ]
        }
      ]
    },
    {
      "cell_type": "code",
      "source": [
        "#12 Write a for loop to print numbers from 1 to 10\n",
        "\n",
        "for i in range(1,11):\n",
        "  print(i,end=' ')\n",
        "\n"
      ],
      "metadata": {
        "colab": {
          "base_uri": "https://localhost:8080/"
        },
        "id": "spuybn_7yd2W",
        "outputId": "03a6f539-7ef8-4b73-ff31-7549048815e2"
      },
      "execution_count": 57,
      "outputs": [
        {
          "output_type": "stream",
          "name": "stdout",
          "text": [
            "1 2 3 4 5 6 7 8 9 10 "
          ]
        }
      ]
    },
    {
      "cell_type": "code",
      "source": [
        "#13 Write a Python program to find the sum of all even numbers between 1 and 50.\n",
        "sum=0\n",
        "for i in range(1,51):\n",
        "  if i%2==0:\n",
        "    sum += i\n",
        "print(sum)"
      ],
      "metadata": {
        "colab": {
          "base_uri": "https://localhost:8080/"
        },
        "id": "mxZnHmKuzUye",
        "outputId": "3ec4c135-4452-445c-952b-957e880f51ad"
      },
      "execution_count": 59,
      "outputs": [
        {
          "output_type": "stream",
          "name": "stdout",
          "text": [
            "650\n"
          ]
        }
      ]
    },
    {
      "cell_type": "code",
      "source": [
        "#14 Write a program to reverse a string using a while loop.\\\n",
        "input_str=input(\"enter any thing=\")\n",
        "\n",
        "reverse_string=\" \"\n",
        "i=len(input_str)-1\n",
        "\n",
        "while i>=0:\n",
        "  reverse_string += input_str[i]\n",
        "  i-=1\n",
        "\n",
        "print(reverse_string)"
      ],
      "metadata": {
        "colab": {
          "base_uri": "https://localhost:8080/"
        },
        "id": "6T0k0maR0MA9",
        "outputId": "24cc37e3-ecf8-453c-f08c-322bee0d2340"
      },
      "execution_count": 61,
      "outputs": [
        {
          "output_type": "stream",
          "name": "stdout",
          "text": [
            "enter any thing=lion\n",
            "noil\n"
          ]
        }
      ]
    },
    {
      "cell_type": "code",
      "source": [
        "#15  Write a Python program to calculate the factorial of a number provided by the user using a while loop.\n",
        "num = int(input(\"enter any number=\"))\n",
        "fact=1\n",
        "\n",
        "while num>=1:\n",
        "  fact *=num\n",
        "  num -=1\n",
        "print(fact)"
      ],
      "metadata": {
        "colab": {
          "base_uri": "https://localhost:8080/"
        },
        "id": "2BsXwTrr45_o",
        "outputId": "88219ef9-f25c-455b-e186-5e28224796e9"
      },
      "execution_count": 6,
      "outputs": [
        {
          "output_type": "stream",
          "name": "stdout",
          "text": [
            "enter any number=5\n",
            "120\n"
          ]
        }
      ]
    }
  ]
}